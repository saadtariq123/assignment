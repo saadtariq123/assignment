{
 "cells": [
  {
   "cell_type": "markdown",
   "metadata": {},
   "source": [
    "# Name:Muhammad Bilal Khan\n",
    "# Roll No:AIC013156\n",
    "# Teacher:Noman Islam\n",
    "# Institute Name:Saylani Head Office\n",
    "# Timing:9:00 to 12:00"
   ]
  },
  {
   "cell_type": "markdown",
   "metadata": {},
   "source": [
    "##  1. Calculate Area of a Circle"
   ]
  },
  {
   "cell_type": "code",
   "execution_count": 3,
   "metadata": {},
   "outputs": [
    {
     "name": "stdout",
     "output_type": "stream",
     "text": [
      "Enter Radius2.56\n",
      "20.588741614566068\n"
     ]
    }
   ],
   "source": [
    "import math\n",
    "radius = float(input(\"Enter Radius\"))\n",
    "area= radius * radius *math.pi\n",
    "print (area)"
   ]
  },
  {
   "cell_type": "markdown",
   "metadata": {},
   "source": [
    "## 2. Check Number either positive, negative or zero\n"
   ]
  },
  {
   "cell_type": "code",
   "execution_count": 4,
   "metadata": {},
   "outputs": [
    {
     "name": "stdout",
     "output_type": "stream",
     "text": [
      "Enter Any Number4\n",
      "Positive\n"
     ]
    }
   ],
   "source": [
    "n = int(input(\"Enter Any Number\"))\n",
    "\n",
    "if n > 0:\n",
    "    print('Positive')\n",
    "    \n",
    "elif n < 0:\n",
    "    print('Negative')\n",
    "else:\n",
    "    print('Zero')"
   ]
  },
  {
   "cell_type": "code",
   "execution_count": 5,
   "metadata": {},
   "outputs": [
    {
     "name": "stdout",
     "output_type": "stream",
     "text": [
      "Enter Any Number-2\n",
      "Negative\n"
     ]
    }
   ],
   "source": [
    "n = int(input(\"Enter Any Number\"))\n",
    "\n",
    "if n > 0:\n",
    "    print('Positive')\n",
    "    \n",
    "elif n < 0:\n",
    "    print('Negative')\n",
    "else:\n",
    "    print('Zero')"
   ]
  },
  {
   "cell_type": "code",
   "execution_count": 6,
   "metadata": {},
   "outputs": [
    {
     "name": "stdout",
     "output_type": "stream",
     "text": [
      "Enter Any Number0\n",
      "Zero\n"
     ]
    }
   ],
   "source": [
    "n = int(input(\"Enter Any Number\"))\n",
    "\n",
    "if n > 0:\n",
    "    print('Positive')\n",
    "    \n",
    "elif n < 0:\n",
    "    print('Negative')\n",
    "else:\n",
    "    print('Zero')"
   ]
  },
  {
   "cell_type": "markdown",
   "metadata": {},
   "source": [
    "## 3. Divisibility Check of two numbers"
   ]
  },
  {
   "cell_type": "code",
   "execution_count": 7,
   "metadata": {},
   "outputs": [
    {
     "name": "stdout",
     "output_type": "stream",
     "text": [
      "Enter Numerator\n",
      "4\n",
      "Enter Denominator\n",
      " 8\n",
      "Numerator Is Not Completely Divisible\n"
     ]
    }
   ],
   "source": [
    "num1 =  int(input(\"Enter Numerator\\n\"))\n",
    "num2 =    int(input(\"Enter Denominator\\n \"))\n",
    "if num1 % num2 == 0:\n",
    "    print('Numerator Is Completely Divisible')\n",
    "else:\n",
    "    print('Numerator Is Not Completely Divisible')"
   ]
  },
  {
   "cell_type": "code",
   "execution_count": 8,
   "metadata": {},
   "outputs": [
    {
     "name": "stdout",
     "output_type": "stream",
     "text": [
      "Enter Numerator\n",
      "6\n",
      "Enter Denominator\n",
      " 3\n",
      "Numerator Is Completely Divisible\n"
     ]
    }
   ],
   "source": [
    "num1 =  int(input(\"Enter Numerator\\n\"))\n",
    "num2 =    int(input(\"Enter Denominator\\n \"))\n",
    "if num1 % num2 == 0:\n",
    "    print('Numerator Is Completely Divisible')\n",
    "else:\n",
    "    print('Numerator Is Not Completely Divisible')"
   ]
  },
  {
   "cell_type": "markdown",
   "metadata": {},
   "source": [
    "## 4. Calculate Volume of a sphere"
   ]
  },
  {
   "cell_type": "code",
   "execution_count": 10,
   "metadata": {},
   "outputs": [
    {
     "name": "stdout",
     "output_type": "stream",
     "text": [
      "Enter radius of sphere3.45\n",
      "171.97446150000002\n"
     ]
    }
   ],
   "source": [
    "radius = float (input(\"Enter radius of sphere\"))\n",
    "vol = (4/3) * 3.141 *radius**3\n",
    "print(vol)"
   ]
  },
  {
   "cell_type": "markdown",
   "metadata": {},
   "source": [
    "## 5. Copy string n times"
   ]
  },
  {
   "cell_type": "code",
   "execution_count": 12,
   "metadata": {},
   "outputs": [
    {
     "name": "stdout",
     "output_type": "stream",
     "text": [
      "Enter String \n",
      "Hi\n",
      " How many copies of String you need \n",
      "5\n",
      "Hi Hi Hi Hi Hi "
     ]
    }
   ],
   "source": [
    "string= input('Enter String \\n')\n",
    "n= int(input(' How many copies of String you need \\n'))\n",
    "for i in range(n):\n",
    "    print(string,end=\" \")"
   ]
  },
  {
   "cell_type": "markdown",
   "metadata": {},
   "source": [
    "## 6. Check if number is Even or Odd"
   ]
  },
  {
   "cell_type": "code",
   "execution_count": 14,
   "metadata": {},
   "outputs": [
    {
     "name": "stdout",
     "output_type": "stream",
     "text": [
      "Enter a number = 12\n",
      "Even\n"
     ]
    }
   ],
   "source": [
    "num = int(input(\"Enter a number = \"))\n",
    "if num % 2 == 0:\n",
    "    print('Even')\n",
    "else:\n",
    "    print('Odd')"
   ]
  },
  {
   "cell_type": "markdown",
   "metadata": {},
   "source": [
    "## 7. Vowel Tester "
   ]
  },
  {
   "cell_type": "code",
   "execution_count": 15,
   "metadata": {},
   "outputs": [
    {
     "name": "stdout",
     "output_type": "stream",
     "text": [
      "Enter a letter = a\n",
      "Vowel\n"
     ]
    }
   ],
   "source": [
    "letter = input('Enter a letter = ').lower()\n",
    "if letter in ['a','e','i','o','u']:\n",
    "    print('Vowel')\n",
    "else:\n",
    "    print('not Vowel')"
   ]
  },
  {
   "cell_type": "code",
   "execution_count": 17,
   "metadata": {},
   "outputs": [
    {
     "name": "stdout",
     "output_type": "stream",
     "text": [
      "Enter a letter = T\n",
      "Not Vowel\n"
     ]
    }
   ],
   "source": [
    "letter = input('Enter a letter = ').lower()\n",
    "if letter in ['a','e','i','o','u']:\n",
    "    print('Vowel')\n",
    "else:\n",
    "    print('Not Vowel')"
   ]
  },
  {
   "cell_type": "markdown",
   "metadata": {},
   "source": [
    "## 8. Triangle area"
   ]
  },
  {
   "cell_type": "code",
   "execution_count": 18,
   "metadata": {},
   "outputs": [
    {
     "name": "stdout",
     "output_type": "stream",
     "text": [
      "Enter Base12\n",
      "Enter Height3\n",
      "18.0\n"
     ]
    }
   ],
   "source": [
    "base = float(input('Enter Base'))\n",
    "height = float(input('Enter Height'))\n",
    "area = (base*height)/2\n",
    "print (area)"
   ]
  },
  {
   "cell_type": "markdown",
   "metadata": {},
   "source": [
    "## 9.Calculate Interest"
   ]
  },
  {
   "cell_type": "code",
   "execution_count": 21,
   "metadata": {},
   "outputs": [
    {
     "name": "stdout",
     "output_type": "stream",
     "text": [
      "Enter Amount you wnat to invest100000\n",
      "Enter Intrest Rate In %0.1\n",
      "Enter years of Invesment2\n",
      "121000\n"
     ]
    }
   ],
   "source": [
    "a = int(input('Enter Amount you wnat to invest'))\n",
    "i = float(input('Enter Intrest Rate In %'))\n",
    "y = int(input('Enter years of Invesment'))\n",
    "iaf = int(a * ((1+ i )** y))\n",
    "print(iaf)"
   ]
  },
  {
   "cell_type": "markdown",
   "metadata": {},
   "source": [
    "## 10. Euclidean distance "
   ]
  },
  {
   "cell_type": "code",
   "execution_count": 23,
   "metadata": {},
   "outputs": [
    {
     "name": "stdout",
     "output_type": "stream",
     "text": [
      "Enter Co-ordinate for x1: 2\n",
      "Enter Co-ordinate for x2: 4\n",
      "Enter Co-ordinate for y1: 4\n",
      "Enter Co-ordinate for y2: 4\n",
      "2\n"
     ]
    }
   ],
   "source": [
    "import math\n",
    "x1 = int(input(\"Enter Co-ordinate for x1: \"))\n",
    "x2 = int(input(\"Enter Co-ordinate for x2: \"))\n",
    "y1 = int(input(\"Enter Co-ordinate for y1: \"))\n",
    "y2 = int(input(\"Enter Co-ordinate for y2: \"))\n",
    "distance = int(math.sqrt((x2-x1)**2+(y2-y1)**2))\n",
    "print(distance)"
   ]
  },
  {
   "cell_type": "markdown",
   "metadata": {},
   "source": [
    "## 11. Feet to Centimeter Converter "
   ]
  },
  {
   "cell_type": "code",
   "execution_count": 25,
   "metadata": {},
   "outputs": [
    {
     "name": "stdout",
     "output_type": "stream",
     "text": [
      "Enter Height in Feet: 6\n",
      "182.88 cm\n"
     ]
    }
   ],
   "source": [
    "height = int(input(\"Enter Height in Feet: \"))\n",
    "centimeter = (height * 30.48)\n",
    "print(centimeter,\"cm\")"
   ]
  },
  {
   "cell_type": "markdown",
   "metadata": {},
   "source": [
    "## 12. BMI Calculator "
   ]
  },
  {
   "cell_type": "code",
   "execution_count": 26,
   "metadata": {},
   "outputs": [
    {
     "name": "stdout",
     "output_type": "stream",
     "text": [
      "Enter Height in Cm: 180\n",
      "Enter Weight in Kg: 75\n",
      "23.15\n"
     ]
    }
   ],
   "source": [
    "height = int(input(\"Enter Height in Cm: \"))\n",
    "weight = int(input(\"Enter Weight in Kg: \"))\n",
    "bmi = ((weight / height / height) * 10000)\n",
    "print(\"%.2f\"%bmi)"
   ]
  },
  {
   "cell_type": "markdown",
   "metadata": {},
   "source": [
    "## 13.Sum of n Positive Integers "
   ]
  },
  {
   "cell_type": "code",
   "execution_count": 27,
   "metadata": {},
   "outputs": [
    {
     "name": "stdout",
     "output_type": "stream",
     "text": [
      "Enter A Number: 5\n",
      "15\n"
     ]
    }
   ],
   "source": [
    "num = int(input(\"Enter A Number: \"))\n",
    "sum_n = int((num * (num + 1)) / 2) \n",
    "print(sum_n)"
   ]
  },
  {
   "cell_type": "markdown",
   "metadata": {},
   "source": [
    "## 14. Digits Sum of a Number"
   ]
  },
  {
   "cell_type": "code",
   "execution_count": 32,
   "metadata": {},
   "outputs": [
    {
     "name": "stdout",
     "output_type": "stream",
     "text": [
      "Enter a number: 1234\n",
      "10\n"
     ]
    }
   ],
   "source": [
    "num = str(input(\"Enter a number: \"))\n",
    "temp=0\n",
    "for i in range(len(num)):\n",
    "    temp=temp+int(num[i])\n",
    "print(temp)"
   ]
  },
  {
   "cell_type": "code",
   "execution_count": 33,
   "metadata": {},
   "outputs": [
    {
     "name": "stdout",
     "output_type": "stream",
     "text": [
      "Enter a number: 15\n",
      "6\n"
     ]
    }
   ],
   "source": [
    "num = str(input(\"Enter a number: \"))\n",
    "temp=0\n",
    "for i in range(len(num)):\n",
    "    temp=temp+int(num[i])\n",
    "print(temp)"
   ]
  },
  {
   "cell_type": "code",
   "execution_count": null,
   "metadata": {},
   "outputs": [],
   "source": []
  }
 ],
 "metadata": {
  "kernelspec": {
   "display_name": "Python 3",
   "language": "python",
   "name": "python3"
  },
  "language_info": {
   "codemirror_mode": {
    "name": "ipython",
    "version": 3
   },
   "file_extension": ".py",
   "mimetype": "text/x-python",
   "name": "python",
   "nbconvert_exporter": "python",
   "pygments_lexer": "ipython3",
   "version": "3.6.7"
  }
 },
 "nbformat": 4,
 "nbformat_minor": 2
}
